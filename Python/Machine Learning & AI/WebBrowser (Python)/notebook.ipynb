{
 "cells": [
  {
   "cell_type": "markdown",
   "metadata": {},
   "source": [
    "# Author: Ricardo Frederico Cambé Ribeiro\n",
    "###  Content Info:  Data acquisition - Texto processing - Inverted Index  - Retrieval models\n",
    "\n",
    "### Credits: Ricardo Campos"
   ]
  },
  {
   "cell_type": "markdown",
   "metadata": {},
   "source": [
    "_____________\n",
    "## Instalação"
   ]
  },
  {
   "cell_type": "markdown",
   "metadata": {},
   "source": [
    "Deverá instalar:\n",
    "-Ananconda \n",
    "-Jupyter"
   ]
  },
  {
   "cell_type": "markdown",
   "metadata": {},
   "source": [
    "### No Jupyter, deverá executar os seguitnes codigos:"
   ]
  },
  {
   "cell_type": "markdown",
   "metadata": {},
   "source": [
    "Note que para este caso está a ser utilizado a biblioteca do spacy para pt de Portugal e en de Inglaterra."
   ]
  },
  {
   "cell_type": "code",
   "execution_count": null,
   "metadata": {},
   "outputs": [],
   "source": [
    "!pip install -U spacy\n",
    "import nltk\n",
    "nltk.download('all')\n",
    "!python -m spacy download en\n",
    "#!python -m spacy download de\n",
    "#!python -m spacy download es\n",
    "!python -m spacy download pt\n",
    "#!python -m spacy download fr\n",
    "#!python -m spacy download it\n",
    "#!python -m spacy download nl\n",
    "#!python -m spacy download xx"
   ]
  },
  {
   "cell_type": "markdown",
   "metadata": {},
   "source": [
    "_____________\n",
    "## Desenvolvimento do Package ArquivoPT"
   ]
  },
  {
   "cell_type": "markdown",
   "metadata": {},
   "source": [
    "Nesta tarefa pretende-se que se desenvolva um package (ArquivoPT) que\n",
    "automatize a obtenção de dados do Arquivo.pt. \n",
    "\n",
    "Note que poderá desenvolver qualquer tipo de pesquisa necessaria. Neste caso foi escolhida o arquivoPT pois com ele é possivel absorver uma quantidade gigante de dados.\n",
    "\n",
    "Note ainda que o conteudo(o conteudo absorvido do site), foi subtituido pelo snippet(conteudo breve), para um desenvolvimento mais aproximado, aconselho descomentar a linha presente na função \"getContent\" do arquivo ArquivoPT.py."
   ]
  },
  {
   "cell_type": "markdown",
   "metadata": {},
   "source": [
    "É executada uma chamada ao Arquivo.PT de forma a trazer algum conteudo, que neste caso, se trata de 10 000 ficheiros. \n",
    "\n",
    "Mas na verdade, cada um desses ficheiro vindos da Web seram dispostos em 2 arquivos diferentes, um de extenção \".txt\" que detem o conteudo/texto e outro ainda de extenção \".json\" que terá toda a informação necessaria a uma posterior utilização, bem como o link do ficheiro.\n",
    "\n",
    "Foco a atenção para a presenção do elemento \"time.sleep(1)\" que evita entupir o canal com pedidos."
   ]
  },
  {
   "cell_type": "code",
   "execution_count": null,
   "metadata": {},
   "outputs": [],
   "source": [
    "import ArquivoPT\n",
    "import time\n",
    "\n",
    "#lista de nomes\n",
    "namesList=[\"rui veloso\",\"sofia\",\"ana\",\"ricardo ribeiro\",\"pedro seabra\",\"joao pais\",\"anita\",\"rui\",\"ricardo campos\",\"joao pedro\"]\n",
    "\n",
    "#executa uma busca de 100 conteudos de todas as entidades na lista e pausa 1 segundo de forma a não entupir o canal\n",
    "for x in namesList:\n",
    "    for ln in range(10):\n",
    "        data = ArquivoPT.getContents({'q':x,'maxItems':\"100\",'fields':\"linkToExtractedText,digest,originalURL,tstamp,snippet,title,date\"})\n",
    "        ArquivoPT.save2File(data)\n",
    "        ArquivoPT.save2Json(data)\n",
    "        print(x + \" :done \"+ln+\"/10\")\n",
    "        time.sleep(1)\n"
   ]
  },
  {
   "cell_type": "markdown",
   "metadata": {},
   "source": [
    "_____________\n",
    "## Desenvolvimento do Package InvertedIndex"
   ]
  },
  {
   "cell_type": "markdown",
   "metadata": {},
   "source": [
    "Nesta tarefa pretende-se que se desenvolva um package (InvertedIndex) que\n",
    "automatize a criação de um índice invertido para a coleção de documentos anteriormente\n",
    "obtida.\n"
   ]
  },
  {
   "cell_type": "code",
   "execution_count": null,
   "metadata": {},
   "outputs": [],
   "source": [
    "Após a criação do package InvertedIndex, popula o conteudo existente na variavel index"
   ]
  },
  {
   "cell_type": "code",
   "execution_count": 5,
   "metadata": {
    "scrolled": true
   },
   "outputs": [],
   "source": [
    "import InvertedIndex\n",
    "import json\n",
    "import os\n",
    "\n",
    "\n",
    "invertedClass = InvertedIndex.InvertedIndex()\n",
    "\n",
    "for directory, subdirectories, files in os.walk(\"data\"):\n",
    "    for file in files:\n",
    "        if(file==\"InvertedIndex.json\" or file==\"URLs.json\" or file.endswith('.txt')):\n",
    "            continue\n",
    "        ct = invertedClass.openJsonFile(os.path.join(directory, file))\n",
    "        invertedClass.add(ct[\"snippet\"],ct[\"originalURL\"])\n",
    "        \n",
    "invertedClass.save2JSon()       \n",
    "          "
   ]
  },
  {
   "cell_type": "markdown",
   "metadata": {},
   "source": [
    "Devolver o positional liste o posting list para uma\n",
    "dada query introduzida pelo utilizador."
   ]
  },
  {
   "cell_type": "code",
   "execution_count": null,
   "metadata": {},
   "outputs": [],
   "source": [
    "query = input(\"Indique uma query: \")\n",
    "invertedIndex = invertedClass.lookup(query,\"data/\") "
   ]
  },
  {
   "cell_type": "code",
   "execution_count": null,
   "metadata": {},
   "outputs": [],
   "source": [
    "invertedIndex"
   ]
  },
  {
   "cell_type": "markdown",
   "metadata": {},
   "source": [
    "_____________\n",
    "##  Desenvolvimento do Package RetrievalModels"
   ]
  },
  {
   "cell_type": "markdown",
   "metadata": {},
   "source": [
    "Desenvolvaimento de um package (InvertedIndex) que\n",
    "automatize a criação de um índice invertido para a coleção de documentos anteriormente\n",
    "obtida.\n",
    "\n",
    "Note que a função Restrict não está terminada devido ao pouco tempo que tenho. Sinta-se livre de ajudar a terminar."
   ]
  },
  {
   "cell_type": "code",
   "execution_count": 10,
   "metadata": {},
   "outputs": [],
   "source": [
    "\n",
    "def Union(postings):\n",
    "    unionSet=set()\n",
    "    for post in postings:\n",
    "        if(len(unionSet) == 0):\n",
    "            unionSet = post\n",
    "            continue\n",
    "        unionSet = set.union(unionSet,post)\n",
    "    return list(unionSet) \n",
    "\n",
    "def Intersection(postings):\n",
    "    intersectionSet=set()\n",
    "    for post in postings:\n",
    "        if(len(intersectionSet) == 0):\n",
    "            intersectionSet = post\n",
    "            continue\n",
    "        intersectionSet = set.intersection(intersectionSet,post)\n",
    "    return list(intersectionSet) \n",
    "\n",
    "\n",
    "def Restrict(positionalList,postings):\n",
    "    #não terminado\n",
    "    Intersection(postings)\n",
    "    return false;\n",
    "            \n",
    "        \n",
    "\n"
   ]
  },
  {
   "cell_type": "code",
   "execution_count": null,
   "metadata": {},
   "outputs": [],
   "source": [
    "_postings = invertedClass.listOfPositional2ListOfPostings(invertedIndex)\n",
    "\n",
    "Union(_postings)"
   ]
  },
  {
   "cell_type": "markdown",
   "metadata": {},
   "source": [
    "_____________\n",
    "## Implementação de um sistema de querying"
   ]
  },
  {
   "cell_type": "markdown",
   "metadata": {},
   "source": [
    "Criação de um sistema de querying (com base no modelo booleano)\n",
    "para responder a dois tipos de queries.\n",
    "\n",
    "Note que a função PhraseQueries não está terminada porque depende da função Restrict"
   ]
  },
  {
   "cell_type": "code",
   "execution_count": 15,
   "metadata": {},
   "outputs": [],
   "source": [
    "#Os documentos a devolver são aqueles que contêm qualquer uma das palavras\n",
    "def FreeText(query):\n",
    "    invertedClass = InvertedIndex.InvertedIndex()\n",
    "    lookupList = invertedClass.lookup(query,\"data/\")\n",
    "    postings = invertedClass.listOfPositional2ListOfPostings(lookupList)\n",
    "    return Union(postings)\n",
    "\n",
    "\n",
    "#Os documentos a devolver são aqueles que contêm todas\n",
    "#as palavras (na ordem especificada)    \n",
    "def PhraseQueries(query):\n",
    "    #não terminado\n",
    "    return false\n",
    "    \n"
   ]
  },
  {
   "cell_type": "code",
   "execution_count": null,
   "metadata": {},
   "outputs": [],
   "source": [
    "FreeText(query)"
   ]
  },
  {
   "cell_type": "markdown",
   "metadata": {},
   "source": [
    "_____________\n",
    "## Creditos e webgrafia"
   ]
  },
  {
   "cell_type": "markdown",
   "metadata": {},
   "source": [
    "Ricardo Campos - Como mentor deste sistema e pelo seu grande ensino.\n",
    "Publicações de Ricardo Campos pode ser vista no link na aba \"Syllabus\" : http://www.ccc.ipt.pt/~ricardo/publications.html\n",
    "Arquivo.pt Api - https://github.com/arquivo/pwa-technologies/wiki/Arquivo.pt-API-v.0.2-(beta-version)\n",
    "Others... se é um dos contribuidores para este projeto, basta indicar com a localização de onde foi retirada a informação e o adicionaremos."
   ]
  }
 ],
 "metadata": {
  "kernelspec": {
   "display_name": "Python 3",
   "language": "python",
   "name": "python3"
  },
  "language_info": {
   "codemirror_mode": {
    "name": "ipython",
    "version": 3
   },
   "file_extension": ".py",
   "mimetype": "text/x-python",
   "name": "python",
   "nbconvert_exporter": "python",
   "pygments_lexer": "ipython3",
   "version": "3.7.1"
  }
 },
 "nbformat": 4,
 "nbformat_minor": 2
}
